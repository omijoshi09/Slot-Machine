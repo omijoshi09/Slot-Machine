{
 "cells": [
  {
   "cell_type": "markdown",
   "metadata": {},
   "source": [
    "# Welcome to Slot Machine Game, this project is divided into three classes column, purse, slot and one function run_slot_machine to perform the task"
   ]
  },
  {
   "cell_type": "markdown",
   "metadata": {},
   "source": [
    "# Column class: \n",
    "The use of column class is to create the fruits emoji it contains method that will use choice method which is imported from random library and every time this method gets called it will return one fruit."
   ]
  },
  {
   "cell_type": "code",
   "execution_count": 1,
   "metadata": {},
   "outputs": [],
   "source": [
    "\n",
    "class Column():\n",
    "    \n",
    "    # Importing emoji and choice\n",
    "    import emoji\n",
    "    import random\n",
    "    from random import choice\n",
    "    \n",
    "    # Constructor\n",
    "    def __init__(self):\n",
    "        # Initialize three emojis\n",
    "        self.faces = [self.emoji.emojize(':red_apple:'),\n",
    "         self.emoji.emojize(':pear:'),\n",
    "         self.emoji.emojize(':tangerine:')\n",
    "        ]\n",
    "    # Method that return random fruit\n",
    "    def get_fruit_face(self):\n",
    "        return self.choice(self.faces)\n",
    "        "
   ]
  },
  {
   "cell_type": "markdown",
   "metadata": {},
   "source": [
    "# Purse Class:\n",
    "This class is work as user wallet that will manage all the mathematical transaction. It has three methods Debit, Credit and Get balance. In debit method amount will be deducted from current balance while in credit method it will add the amount to current balance. get balance method will return the current balance."
   ]
  },
  {
   "cell_type": "code",
   "execution_count": 2,
   "metadata": {},
   "outputs": [],
   "source": [
    "class Purse():\n",
    "    \n",
    "    # Constructor with balance attribute\n",
    "    def __init__(self,balance):\n",
    "        # initilizing balance attribute\n",
    "        self.balance = balance\n",
    "    \n",
    "    def debit(self,amount_to_deduct):\n",
    "        # deduct the balance from current balance\n",
    "        self.balance -= amount_to_deduct\n",
    "    \n",
    "    def credit(self,amount_to_add):\n",
    "        # add the balance from given attribute to current balance\n",
    "        self.balance += amount_to_add\n",
    "    \n",
    "    def get_balance(self):\n",
    "        # return the current balance\n",
    "        return self.balance"
   ]
  },
  {
   "cell_type": "markdown",
   "metadata": {},
   "source": [
    "# Slot Class:\n",
    "This class contains majorly all the operations also this class uses inheritance from the purse class. It has constructor and five methods. In take bet method this will iterate over while loop and this will iterate untill it receives user input as 'N' or user wallet balance will come to less than 2. After checking require criteria and minum bet range this method will pull_handle method. Pull handle method call the method from column and each time save it in one variable. After that it will stored all the value in array and that is call via show slot method. In show slot method using for loop it will count the every fruit apperance and call the score slot method. In score slot it will check with logic as full house, half house or empty house depending on conditon it will call the method from purse and performs the arithmetic operation."
   ]
  },
  {
   "cell_type": "code",
   "execution_count": 3,
   "metadata": {},
   "outputs": [],
   "source": [
    "class Slot(Purse):\n",
    "    # slot class constructor\n",
    "    def __init__(self,balance):\n",
    "        self.balance = balance\n",
    "        # constructor from purse\n",
    "        Purse.__init__(self, self.balance)\n",
    "\n",
    "    \n",
    "    def take_bet(self):\n",
    "        Validbet = True\n",
    "        # loop to iterate till it get false value\n",
    "        while Validbet == True:\n",
    "            current_balance = float(self.get_balance())\n",
    "            if current_balance < 2:\n",
    "                print('Thank you for playing you are leaving with ', current_balance)\n",
    "                print('')\n",
    "                break\n",
    "            try:\n",
    "                # Save the user input\n",
    "                self.betamount = input(\"Please enter amount you wish to bet: \")\n",
    "                # Check if the value is n or N make it in lower case if found break the loop\n",
    "                if(self.betamount.lower() == 'n'):\n",
    "                    Validbet = False\n",
    "                    print('Thank you for playing you are leaving with ', current_balance)\n",
    "                    print('')\n",
    "                    break\n",
    "                else:\n",
    "                    self.betamount = int(self.betamount)\n",
    "                    \n",
    "                    # check if it satiffies the condition\n",
    "                    if self.betamount < 2:\n",
    "                            print('Sorry, Minimum bet is 2')\n",
    "                            Validbet = True\n",
    "                    elif current_balance < 2:\n",
    "                            Validbet = False\n",
    "                            print('Thank you for playing you are leaving with ', current_balance)\n",
    "                            break\n",
    "                    else:\n",
    "                            if self.betamount >= 2 and self.betamount <=  current_balance:\n",
    "                                Validbet = True\n",
    "                                self.get_balance()\n",
    "                                # call the pull handle method\n",
    "                                self.pull_handle()\n",
    "                                # if bet amount is higher than actual balance ask again for input\n",
    "                            else:\n",
    "                                Validbet = True\n",
    "                                print(\"Please check your bet you dont have suffecient balance\")\n",
    "                                print('')\n",
    "                    \n",
    "                    \n",
    "            except:\n",
    "                # if value is not 'N' or integer ask for input again\n",
    "                Validbet = True\n",
    "                print (\"Please enter a whole number, no decimals and a bet on or below the balance.\")\n",
    "                print('')\n",
    "\n",
    "    def pull_handle(self):\n",
    "        # create instance of the column class\n",
    "        get_faces = Column()\n",
    "        # call the method and store each fruit in one variable\n",
    "        slot_one = get_faces.get_fruit_face()\n",
    "        slot_two = get_faces.get_fruit_face()\n",
    "        slot_three = get_faces.get_fruit_face()\n",
    "        # store all three fruit value in list\n",
    "        slotted_output = [slot_one, slot_two, slot_three]\n",
    "        # call the show slot method with one argument list of fruits\n",
    "        self.show_slot(slotted_output)\n",
    "        \n",
    "     \n",
    "        \n",
    "    def show_slot(self, slotted_output):\n",
    "        # Using loop iterate each fruit \n",
    "        for fruit_value in slotted_output:\n",
    "            print(fruit_value, end=\" \")\n",
    "        count_apple = 0\n",
    "        count_pear = 0\n",
    "        count_tangerine = 0\n",
    "        # if the encode value mathces increase the count of that fruit\n",
    "        for item in slotted_output:\n",
    "            if item.encode() == b'\\xf0\\x9f\\x8d\\x8e':\n",
    "                count_apple += 1\n",
    "            elif item.encode() == b'\\xf0\\x9f\\x8d\\x90':\n",
    "                count_pear += 1\n",
    "            elif item.encode() == b'\\xf0\\x9f\\x8d\\x8a':\n",
    "                count_tangerine += 1\n",
    "        # call score slot method while passing the count of each fruit\n",
    "        self.score_slot(count_apple,count_pear, count_tangerine)\n",
    "        \n",
    "    def score_slot(self, count_apple, count_pear, count_tangerine):\n",
    "        # call the debit method and pass the bet amount\n",
    "        self.debit(self.betamount)\n",
    "        # check if any of the fruit count is 3\n",
    "        if count_apple == 3 or count_pear == 3 or count_tangerine == 3:\n",
    "                # Call the credit method with double the bet bet amount\n",
    "                self.credit(self.betamount * 2)\n",
    "                print('\\n Your score is - ', self.betamount * 2, 'Now you have - ', self.get_balance())\n",
    "        elif count_apple == 2 or count_pear == 2 or count_tangerine == 2:\n",
    "                # Call the credit method with half the bet bet amount\n",
    "                self.credit(self.betamount * 1.5)\n",
    "                print('\\n Your score is - ', self.betamount * 1.5, 'Now you have - ', self.get_balance())\n",
    "        else:\n",
    "            print('\\n Your score is -', 0 , 'Now you have -', self.get_balance())\n",
    "        print('')\n",
    "\n"
   ]
  },
  {
   "cell_type": "markdown",
   "metadata": {},
   "source": [
    "# Run Slot Machine:\n",
    "Function that instantinate this program as declaring it's defalut balnce to ten and create instance of slot class while calling its take bet method."
   ]
  },
  {
   "cell_type": "code",
   "execution_count": 4,
   "metadata": {},
   "outputs": [],
   "source": [
    "def run_slot_machine():\n",
    "    # default balance\n",
    "    balance = 10\n",
    "    \n",
    "    # First call slot class\n",
    "    get_slot_object = Slot(balance)\n",
    "    \n",
    "    print('========== Slot Machine ==========')\n",
    "    print('Minimum bet is 2. Type N to exit')\n",
    "    print('You have 10')\n",
    "    print('')\n",
    "    # call the take bet method\n",
    "    get_slot_object.take_bet()\n",
    "    \n",
    "    "
   ]
  },
  {
   "cell_type": "code",
   "execution_count": null,
   "metadata": {},
   "outputs": [
    {
     "name": "stdout",
     "output_type": "stream",
     "text": [
      "========== Slot Machine ==========\n",
      "Minimum bet is 2. Type N to exit\n",
      "You have 10\n",
      "\n",
      "Please enter amount you wish to bet: 1\n",
      "Sorry, Minimum bet is 2\n",
      "Please enter amount you wish to bet: 2\n",
      "🍐 🍎 🍐 \n",
      " Your score is -  3.0 Now you have -  11.0\n",
      "\n",
      "Please enter amount you wish to bet: 12\n",
      "Please check your bet you dont have suffecient balance\n",
      "\n",
      "Please enter amount you wish to bet: 2\n",
      "🍎 🍎 🍐 \n",
      " Your score is -  3.0 Now you have -  12.0\n",
      "\n"
     ]
    }
   ],
   "source": [
    "# call the run_slot_machine function\n",
    "run_slot_machine()"
   ]
  },
  {
   "cell_type": "code",
   "execution_count": null,
   "metadata": {},
   "outputs": [],
   "source": []
  },
  {
   "cell_type": "code",
   "execution_count": null,
   "metadata": {},
   "outputs": [],
   "source": []
  }
 ],
 "metadata": {
  "kernelspec": {
   "display_name": "Python 3",
   "language": "python",
   "name": "python3"
  },
  "language_info": {
   "codemirror_mode": {
    "name": "ipython",
    "version": 3
   },
   "file_extension": ".py",
   "mimetype": "text/x-python",
   "name": "python",
   "nbconvert_exporter": "python",
   "pygments_lexer": "ipython3",
   "version": "3.7.4"
  }
 },
 "nbformat": 4,
 "nbformat_minor": 2
}
